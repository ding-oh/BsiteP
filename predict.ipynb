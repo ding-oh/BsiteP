{
 "cells": [
  {
   "cell_type": "code",
   "execution_count": 12,
   "id": "4f0e15e7-58b3-4431-889c-e03c1001dad3",
   "metadata": {},
   "outputs": [],
   "source": [
    "import os\n",
    "import torch\n",
    "from openbabel import pybel\n",
    "\n",
    "from utils.model_utils import load_model\n",
    "from utils.pocket_utils import save_pocket_mol\n",
    "from utils.data_utils import prepare_data, process_protein_data"
   ]
  },
  {
   "cell_type": "code",
   "execution_count": 13,
   "id": "62d3c3b1-60bd-4b2a-b62b-8faa5ee2ebf9",
   "metadata": {
    "scrolled": true
   },
   "outputs": [],
   "source": [
    "model_path = \"./ckpt/model0.pth\"\n",
    "model = load_model(model_path)"
   ]
  },
  {
   "cell_type": "code",
   "execution_count": 14,
   "id": "eb87e1ad-374e-4066-ab2b-68273255e883",
   "metadata": {},
   "outputs": [],
   "source": [
    "input_file = \"./coach420\"\n",
    "output_path = \"./output/coach420\"\n",
    "file_format = \"mol2\""
   ]
  },
  {
   "cell_type": "code",
   "execution_count": 15,
   "id": "5790dd60-a9d9-4255-8f64-fc84817810c3",
   "metadata": {},
   "outputs": [],
   "source": [
    "val_Dataloader = prepare_data(input_file, file_format)\n",
    "\n",
    "results = []\n",
    "\n",
    "for i, data in enumerate(val_Dataloader):\n",
    "    input, origin, step, name, mol = data\n",
    "    mol = next(pybel.readfile(file_format, mol[0]))\n",
    "    input = input.cuda()\n",
    "    with torch.no_grad():\n",
    "        output = model(input)\n",
    "    pockets, binding_score = save_pocket_mol(output.cpu(), origin[0], step[0], mol)\n",
    "\n",
    "    for j, pocket in enumerate(pockets):\n",
    "        folder_name = output_path + '/' + str(name).split(\"'\")[1]\n",
    "        if not os.path.exists(folder_name):\n",
    "            os.makedirs(folder_name)\n",
    "            \n",
    "        pocket_filename = f\"{folder_name}/pocket{j}_score_{binding_score:.4f}.{file_format}\"\n",
    "        pocket.write(file_format, pocket_filename, overwrite=True)"
   ]
  }
 ],
 "metadata": {
  "kernelspec": {
   "display_name": "geo",
   "language": "python",
   "name": "geo"
  },
  "language_info": {
   "codemirror_mode": {
    "name": "ipython",
    "version": 3
   },
   "file_extension": ".py",
   "mimetype": "text/x-python",
   "name": "python",
   "nbconvert_exporter": "python",
   "pygments_lexer": "ipython3",
   "version": "3.8.18"
  }
 },
 "nbformat": 4,
 "nbformat_minor": 5
}
